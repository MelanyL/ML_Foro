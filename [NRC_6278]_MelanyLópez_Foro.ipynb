{
 "cells": [
  {
   "cell_type": "markdown",
   "id": "8b6f603c",
   "metadata": {},
   "source": [
    "<center><h1>Inteligencia Artificial</header1></center>"
   ]
  },
  {
   "cell_type": "markdown",
   "id": "3eb1aaac",
   "metadata": {},
   "source": [
    "Presentado por: Melany Carolina López García  <br>\n",
    "Fecha: 27/07/2022"
   ]
  },
  {
   "cell_type": "markdown",
   "id": "1dec299b",
   "metadata": {
    "ExecuteTime": {
     "end_time": "2022-03-14T15:14:04.930713Z",
     "start_time": "2022-03-14T15:14:04.921682Z"
    }
   },
   "source": [
    "# Importación de librerias necesarias"
   ]
  },
  {
   "cell_type": "code",
   "execution_count": 1,
   "id": "6d1abf7a",
   "metadata": {
    "ExecuteTime": {
     "end_time": "2022-03-14T15:14:46.228059Z",
     "start_time": "2022-03-14T15:14:46.223108Z"
    }
   },
   "outputs": [],
   "source": [
    "#Para esta actividad se importarán las siguientes librerías:\n",
    "#Importamos la libreria pandas\n",
    "import pandas as pd \n",
    "#Importamos la libreria seaborn\n",
    "import seaborn as sns\n",
    "#Importamos la libreria numpy\n",
    "import numpy as np\n",
    "#Importamos LabelEncoder desde la libreria sklearn\n",
    "from sklearn.preprocessing import LabelEncoder\n",
    "#Importamos train_test_split desde la libreria sklearn\n",
    "from sklearn.model_selection import train_test_split\n",
    "#Importamos MinMaxScaler desde la libreria sklearn\n",
    "from sklearn.preprocessing import MinMaxScaler\n",
    "# Importamos DecisionTreeClassifier desde la libreria sklearn\n",
    "from sklearn.tree import DecisionTreeClassifier\n",
    "# Importamos metrics desde la libreria sklearn\n",
    "from sklearn import metrics"
   ]
  },
  {
   "cell_type": "markdown",
   "id": "6a44b924",
   "metadata": {},
   "source": [
    "## Cargar el Dataset"
   ]
  },
  {
   "cell_type": "code",
   "execution_count": 3,
   "id": "3541e808",
   "metadata": {},
   "outputs": [
    {
     "data": {
      "text/html": [
       "<div>\n",
       "<style scoped>\n",
       "    .dataframe tbody tr th:only-of-type {\n",
       "        vertical-align: middle;\n",
       "    }\n",
       "\n",
       "    .dataframe tbody tr th {\n",
       "        vertical-align: top;\n",
       "    }\n",
       "\n",
       "    .dataframe thead th {\n",
       "        text-align: right;\n",
       "    }\n",
       "</style>\n",
       "<table border=\"1\" class=\"dataframe\">\n",
       "  <thead>\n",
       "    <tr style=\"text-align: right;\">\n",
       "      <th></th>\n",
       "      <th>User ID</th>\n",
       "      <th>Gender</th>\n",
       "      <th>Age</th>\n",
       "      <th>AnnualSalary</th>\n",
       "      <th>Purchased</th>\n",
       "    </tr>\n",
       "  </thead>\n",
       "  <tbody>\n",
       "    <tr>\n",
       "      <th>0</th>\n",
       "      <td>385</td>\n",
       "      <td>Male</td>\n",
       "      <td>35</td>\n",
       "      <td>20000</td>\n",
       "      <td>0</td>\n",
       "    </tr>\n",
       "    <tr>\n",
       "      <th>1</th>\n",
       "      <td>681</td>\n",
       "      <td>Male</td>\n",
       "      <td>40</td>\n",
       "      <td>43500</td>\n",
       "      <td>0</td>\n",
       "    </tr>\n",
       "    <tr>\n",
       "      <th>2</th>\n",
       "      <td>353</td>\n",
       "      <td>Male</td>\n",
       "      <td>49</td>\n",
       "      <td>74000</td>\n",
       "      <td>0</td>\n",
       "    </tr>\n",
       "    <tr>\n",
       "      <th>3</th>\n",
       "      <td>895</td>\n",
       "      <td>Male</td>\n",
       "      <td>40</td>\n",
       "      <td>107500</td>\n",
       "      <td>1</td>\n",
       "    </tr>\n",
       "    <tr>\n",
       "      <th>4</th>\n",
       "      <td>661</td>\n",
       "      <td>Male</td>\n",
       "      <td>25</td>\n",
       "      <td>79000</td>\n",
       "      <td>0</td>\n",
       "    </tr>\n",
       "  </tbody>\n",
       "</table>\n",
       "</div>"
      ],
      "text/plain": [
       "   User ID Gender  Age  AnnualSalary  Purchased\n",
       "0      385   Male   35         20000          0\n",
       "1      681   Male   40         43500          0\n",
       "2      353   Male   49         74000          0\n",
       "3      895   Male   40        107500          1\n",
       "4      661   Male   25         79000          0"
      ]
     },
     "execution_count": 3,
     "metadata": {},
     "output_type": "execute_result"
    }
   ],
   "source": [
    "#Código para cargar el Dataset\n",
    "df = pd.read_csv('https://raw.githubusercontent.com/MelanyL/ML_Foro/master/car_data.csv')\n",
    "# Mostramos el dataset\n",
    "df.head()"
   ]
  },
  {
   "cell_type": "markdown",
   "id": "93c30410",
   "metadata": {},
   "source": [
    "## Descripción de la fuente del Dataset"
   ]
  },
  {
   "cell_type": "markdown",
   "id": "db6174bc",
   "metadata": {},
   "source": [
    "Este conjunto de datos contiene detalles de 1000 clientes que tienen la intención de comprar un automóvil, considerando sus salarios anuales.\n",
    "\n",
    "Columnas que posee son las siguientes:<br>\n",
    "**User ID:** ID de usuario<br>\n",
    "**Genderr:** Género del cliente<br>\n",
    "**Edad:** Edad del cliente<br>\n",
    "**Annual Salary:** Salario anual del cliente<br>\n",
    "**Purchased:** posición de compra (No = 0; Sí = 1)<br>"
   ]
  },
  {
   "cell_type": "markdown",
   "id": "7f868eab",
   "metadata": {},
   "source": [
    "## Explique el problema a resolver. \n",
    "El dataset escogido cuenta con 1000 datos, en donde lo que requiere es realizar una predicción sobre cuales clientes pueden comprar un automóvil teniendo en cuenta sus salarios anuales. La variable objetivo dentro de este dataset es Purchased que hace referencia a la posición de compra del cliente, y sus variables de entrada son el ID del usuario, el género, la edad y el salario anual del cliente."
   ]
  },
  {
   "cell_type": "markdown",
   "id": "a0b719c1",
   "metadata": {},
   "source": [
    "## Caracterización del Dataset\n",
    "\n",
    "Realice una descripción de los datos con:\n",
    "\n",
    ">- Número de instancias en total.\n",
    ">- Número de atributos de entrada, su significado y tipo.\n",
    ">- Estadísticas de la variable objetivo.\n",
    ">- Estadísticas los atributos en relación con la variable objetivo.\n"
   ]
  },
  {
   "cell_type": "markdown",
   "id": "35c85b99",
   "metadata": {},
   "source": [
    "# Número de instancias en total\n"
   ]
  },
  {
   "cell_type": "code",
   "execution_count": 4,
   "id": "2f0ed5d2",
   "metadata": {},
   "outputs": [
    {
     "data": {
      "text/plain": [
       "User ID         1000\n",
       "Gender          1000\n",
       "Age             1000\n",
       "AnnualSalary    1000\n",
       "Purchased       1000\n",
       "dtype: int64"
      ]
     },
     "execution_count": 4,
     "metadata": {},
     "output_type": "execute_result"
    }
   ],
   "source": [
    "#Código que responde a la descripción anterior\n",
    "#contar registros del dataset\n",
    "df.count()"
   ]
  },
  {
   "cell_type": "markdown",
   "id": "bb2414c2",
   "metadata": {},
   "source": [
    "# Número de atributos de entrada, su significado y tipo"
   ]
  },
  {
   "cell_type": "markdown",
   "id": "a7ab5e48",
   "metadata": {},
   "source": [
    "**User ID:** es contínuo<br>\n",
    "**Genderr:** Femenino y Masculino (Categórico)<br>\n",
    "**Edad:** es contínuo<br>\n",
    "**Annual Salary:** es contínuo<br>\n",
    "**Purchased:** 0 = no; 1 = Sí, es categórico<br>"
   ]
  },
  {
   "cell_type": "code",
   "execution_count": 5,
   "id": "f47f4ea3",
   "metadata": {},
   "outputs": [
    {
     "name": "stdout",
     "output_type": "stream",
     "text": [
      "<class 'pandas.core.frame.DataFrame'>\n",
      "RangeIndex: 1000 entries, 0 to 999\n",
      "Data columns (total 4 columns):\n",
      " #   Column        Non-Null Count  Dtype \n",
      "---  ------        --------------  ----- \n",
      " 0   User ID       1000 non-null   int64 \n",
      " 1   Gender        1000 non-null   object\n",
      " 2   Age           1000 non-null   int64 \n",
      " 3   AnnualSalary  1000 non-null   int64 \n",
      "dtypes: int64(3), object(1)\n",
      "memory usage: 31.4+ KB\n"
     ]
    }
   ],
   "source": [
    "#muestra la información (incluido el tipo de dato) de los 7 atributos de entrada.\n",
    "df.drop('Purchased', axis=1).info()"
   ]
  },
  {
   "cell_type": "markdown",
   "id": "d9cef46a",
   "metadata": {},
   "source": [
    "# Estadísticas de la variable objetivo."
   ]
  },
  {
   "cell_type": "code",
   "execution_count": 6,
   "id": "53481adc",
   "metadata": {},
   "outputs": [
    {
     "data": {
      "text/plain": [
       "<AxesSubplot:>"
      ]
     },
     "execution_count": 6,
     "metadata": {},
     "output_type": "execute_result"
    },
    {
     "data": {
      "image/png": "[encoded data removed]",
      "text/plain": [
       "<Figure size 432x288 with 1 Axes>"
      ]
     },
     "metadata": {
      "needs_background": "light"
     },
     "output_type": "display_data"
    }
   ],
   "source": [
    "# Instanciamos la libreria matplotlib\n",
    "%matplotlib inline\n",
    "#Crear gráfico de barras como la variable objetivo (tipo) continua.\n",
    "df['Purchased'].hist()"
   ]
  },
  {
   "cell_type": "markdown",
   "id": "9407b2f7",
   "metadata": {},
   "source": [
    "# Estadísticas los atributos en relación con la variable objetivo."
   ]
  },
  {
   "cell_type": "code",
   "execution_count": 9,
   "id": "f18e8728",
   "metadata": {},
   "outputs": [],
   "source": [
    "#Creamnos la instancia de labelencoder\n",
    "labelencoder = LabelEncoder()\n",
    "\n",
    "#Transformamos los datos de la columna salary\n",
    "df[\"User ID\"] = labelencoder.fit_transform(df[\"User ID\"])\n",
    "#Transformamos los datos de la columna workclass\n",
    "df[\"Gender\"] = labelencoder.fit_transform(df[\"Gender\"])\n",
    "#Transformamos los datos de la columna education\n",
    "df[\"Age\"] = labelencoder.fit_transform(df[\"Age\"])\n",
    "#Transformamos los datos de la columna marital-status\n",
    "df[\"AnnualSalary\"] = labelencoder.fit_transform(df[\"AnnualSalary\"])\n",
    "#Transformamos los datos de la columna occupation\n",
    "df[\"Purchased\"] = labelencoder.fit_transform(df[\"Purchased\"])"
   ]
  },
  {
   "cell_type": "code",
   "execution_count": 10,
   "id": "e1f6bdf9",
   "metadata": {},
   "outputs": [],
   "source": [
    "#Definición de una función para encontrar la relación estadística de variable objetivo contra todas las variables categóricas\n",
    "def FunctionAnova(inpData, TargetVariable, CategoricalPredictorList):\n",
    "    from scipy.stats import f_oneway\n",
    "\n",
    "    #Creación de una lista vacía de predictores o variables de entrada \n",
    "    SelectedPredictors=[]\n",
    "    \n",
    "    print('##### ANOVA Results ##### \\n')\n",
    "    for predictor in CategoricalPredictorList:\n",
    "        CategoryGroupLists=inpData.groupby(predictor)[TargetVariable].apply(list)\n",
    "        AnovaResults = f_oneway(*CategoryGroupLists)\n",
    "        #Si el valor P de ANOVA es <0.05, eso significa que rechazamos H0\n",
    "        if (AnovaResults[1] < 0.05):\n",
    "            print(predictor, 'is correlated with', TargetVariable, '| P-Value:', AnovaResults[1])\n",
    "            SelectedPredictors.append(predictor)\n",
    "        else:\n",
    "            print(predictor, 'is NOT correlated with', TargetVariable, '| P-Value:', AnovaResults[1])\n",
    "    \n",
    "    return(SelectedPredictors)"
   ]
  },
  {
   "cell_type": "code",
   "execution_count": 16,
   "id": "77fb7af4",
   "metadata": {},
   "outputs": [
    {
     "name": "stdout",
     "output_type": "stream",
     "text": [
      "##### ANOVA Results ##### \n",
      "\n",
      "['Gender', 'Age', 'AnnualSalary'] is correlated with Purchased | P-Value: 5.967609870199763e-15\n"
     ]
    },
    {
     "data": {
      "text/plain": [
       "[['Gender', 'Age', 'AnnualSalary']]"
      ]
     },
     "execution_count": 16,
     "metadata": {},
     "output_type": "execute_result"
    }
   ],
   "source": [
    "#Llamar a la función para verificar qué variables categóricas están correlacionadas con la variable objetivo\n",
    "CategoricalPredictorList=['Gender','Age', 'AnnualSalary'], \n",
    "FunctionAnova(inpData=df, \n",
    "              TargetVariable='Purchased', \n",
    "              CategoricalPredictorList=CategoricalPredictorList)"
   ]
  },
  {
   "cell_type": "markdown",
   "id": "6c20d5f4",
   "metadata": {},
   "source": [
    "Como se puede apreciar en el análisis realizado la distribución de datos de la variable objetivo es satisfactoria para continuar. Hay un número suficiente de filas para cada tipo de valores de los que puede aprender el modelo. Y se obtuvo la respectiva comprobación de que si tienen correlación la variable objetiva "
   ]
  },
  {
   "cell_type": "markdown",
   "id": "0a19e6af",
   "metadata": {},
   "source": [
    "## Preprocesamiento del dataset. Transformaciones previas necesarias para la modelación"
   ]
  },
  {
   "cell_type": "code",
   "execution_count": 12,
   "id": "5a24dac4",
   "metadata": {},
   "outputs": [
    {
     "data": {
      "text/plain": [
       "((700, 4), (300, 4))"
      ]
     },
     "execution_count": 12,
     "metadata": {},
     "output_type": "execute_result"
    }
   ],
   "source": [
    "#Transformación de las caracteristicas (mire el apartado Feature engineering del aula virtual)\n",
    "# Preparamos los datos de entrenamiento y prueba\n",
    "X_train, X_test, y_train, y_test = train_test_split(df.drop('Purchased', axis=1),\n",
    "                                                    df['Purchased'],\n",
    "                                                    test_size=0.3,\n",
    "                                                    random_state=0)\n",
    "\n",
    "X_train.shape, X_test.shape"
   ]
  },
  {
   "cell_type": "code",
   "execution_count": 13,
   "id": "3e81a097",
   "metadata": {},
   "outputs": [],
   "source": [
    "# Instanciamos scaler\n",
    "scaler = MinMaxScaler()\n",
    "\n",
    "# entrenamos el modelo\n",
    "scaler.fit(X_train)\n",
    "\n",
    "# transformamos los datos de entrenamiento y prueba\n",
    "X_train_scaled = scaler.transform(X_train)\n",
    "X_test_scaled = scaler.transform(X_test)"
   ]
  },
  {
   "cell_type": "code",
   "execution_count": 14,
   "id": "bb4667f6",
   "metadata": {},
   "outputs": [],
   "source": [
    "# Transformamos los datos de entrenamiento devueltos por el modelo\n",
    "X_train_scaled = pd.DataFrame(X_train_scaled, columns=X_train.columns)\n",
    "# Transformamos los datos de test devueltos por el modelo\n",
    "X_test_scaled = pd.DataFrame(X_test_scaled, columns=X_test.columns)"
   ]
  },
  {
   "cell_type": "code",
   "execution_count": 15,
   "id": "9d083af4",
   "metadata": {},
   "outputs": [
    {
     "data": {
      "image/png": "[encoded data removed]",
      "text/plain": [
       "<Figure size 864x360 with 2 Axes>"
      ]
     },
     "metadata": {
      "needs_background": "light"
     },
     "output_type": "display_data"
    }
   ],
   "source": [
    "import matplotlib.pyplot as plt\n",
    "# let's compare the variable distributions before and after scaling\n",
    "\n",
    "fig, (ax1, ax2) = plt.subplots(ncols=2, figsize=(12, 5))\n",
    "\n",
    "# before scaling\n",
    "ax1.set_title('Before Scaling')\n",
    "sns.kdeplot(X_train['User ID'], ax=ax1)\n",
    "sns.kdeplot(X_train['Gender'], ax=ax1)\n",
    "sns.kdeplot(X_train['Age'], ax=ax1)\n",
    "sns.kdeplot(X_train['AnnualSalary'], ax=ax1)\n",
    "\n",
    "# after scaling\n",
    "ax2.set_title('After Mean Normalisation')\n",
    "sns.kdeplot(X_train_scaled['User ID'], ax=ax2)\n",
    "sns.kdeplot(X_train_scaled['Gender'], ax=ax2)\n",
    "sns.kdeplot(X_train_scaled['Age'], ax=ax2)\n",
    "sns.kdeplot(X_train_scaled['AnnualSalary'], ax=ax2)\n",
    "plt.show()"
   ]
  },
  {
   "cell_type": "markdown",
   "id": "49815fde",
   "metadata": {
    "ExecuteTime": {
     "end_time": "2022-03-14T15:56:34.366469Z",
     "start_time": "2022-03-14T15:56:34.358471Z"
    }
   },
   "source": [
    "## División del dataset en datos de entrenamiento y datos de test "
   ]
  },
  {
   "cell_type": "code",
   "execution_count": 17,
   "id": "6f26d21e",
   "metadata": {},
   "outputs": [
    {
     "data": {
      "text/plain": [
       "((700, 3), (300, 3))"
      ]
     },
     "execution_count": 17,
     "metadata": {},
     "output_type": "execute_result"
    }
   ],
   "source": [
    "#Código que realice la división en entrenamiento y test, de acuerdo con la estretgia de evaluación planeada. Describa cuál es.\n",
    "# Asignamos nuestras variables x\n",
    "X = df[['Gender','Age', 'AnnualSalary']]\n",
    "# Asignamos nuestra variable y\n",
    "y = df[['Purchased']]\n",
    "# Dividimos los datos en entrenamiento y prueb\n",
    "X_train, X_test, y_train, y_test = train_test_split(X, y, test_size=0.3, random_state=1)\n",
    "\n",
    "#Verificamos la cantidad de datos\n",
    "X_train.shape, X_test.shape"
   ]
  },
  {
   "cell_type": "markdown",
   "id": "6319adad",
   "metadata": {},
   "source": [
    "## Modelamiento"
   ]
  },
  {
   "cell_type": "code",
   "execution_count": 18,
   "id": "d5d2b2c6",
   "metadata": {},
   "outputs": [],
   "source": [
    "# Instanciamos el arbol de decisiones\n",
    "clf = DecisionTreeClassifier()"
   ]
  },
  {
   "cell_type": "code",
   "execution_count": 19,
   "id": "33f5be2a",
   "metadata": {
    "ExecuteTime": {
     "end_time": "2022-04-25T07:21:39.020596Z",
     "start_time": "2022-04-25T07:21:39.005596Z"
    }
   },
   "outputs": [],
   "source": [
    "#Entrenamos el modelo con los datos de entrenamiento\n",
    "clf = clf.fit(X_train,y_train)"
   ]
  },
  {
   "cell_type": "code",
   "execution_count": 20,
   "id": "a2e675b3",
   "metadata": {},
   "outputs": [],
   "source": [
    "# Realizamos la prediccion de los datos de prueba\n",
    "y_pred = clf.predict(X_test)"
   ]
  },
  {
   "cell_type": "code",
   "execution_count": 21,
   "id": "a99a1ed8",
   "metadata": {},
   "outputs": [
    {
     "name": "stdout",
     "output_type": "stream",
     "text": [
      "Accuracy: 0.8833333333333333\n"
     ]
    }
   ],
   "source": [
    "# Mostramos el accuracy del modelo entrenado\n",
    "print(\"Accuracy:\", metrics.accuracy_score(y_test, y_pred))"
   ]
  },
  {
   "cell_type": "markdown",
   "id": "9c2239f5",
   "metadata": {},
   "source": [
    "## Evaluación del Modelo"
   ]
  },
  {
   "cell_type": "markdown",
   "id": "ad219a0c",
   "metadata": {},
   "source": [
    "El modelo de decision tree entrenado con 1000 datos, posee un nivel de exactitud del 88%, en donde durante el respectivo periodo de prueba se pudo obtener un resultado que se considera óptimo y aceptable para hallar la predicción sobre si un cliente puede o no comprar un automóvil."
   ]
  }
 ],
 "metadata": {
  "kernelspec": {
   "display_name": "Python 3 (ipykernel)",
   "language": "python",
   "name": "python3"
  },
  "language_info": {
   "codemirror_mode": {
    "name": "ipython",
    "version": 3
   },
   "file_extension": ".py",
   "mimetype": "text/x-python",
   "name": "python",
   "nbconvert_exporter": "python",
   "pygments_lexer": "ipython3",
   "version": "3.9.12"
  },
  "toc": {
   "base_numbering": 1,
   "nav_menu": {},
   "number_sections": true,
   "sideBar": true,
   "skip_h1_title": true,
   "title_cell": "Tabla de Contenido",
   "title_sidebar": "Contenido",
   "toc_cell": false,
   "toc_position": {
    "height": "calc(100% - 180px)",
    "left": "10px",
    "top": "150px",
    "width": "263.591px"
   },
   "toc_section_display": true,
   "toc_window_display": true
  }
 },
 "nbformat": 4,
 "nbformat_minor": 5
}
